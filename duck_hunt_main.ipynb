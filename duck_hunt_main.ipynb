{
 "nbformat": 4,
 "nbformat_minor": 0,
 "metadata": {
  "colab": {
   "name": "duck_hunt_main.ipynb",
   "provenance": [],
   "collapsed_sections": []
  },
  "kernelspec": {
   "name": "python3",
   "language": "python",
   "display_name": "Python 3 (ipykernel)"
  },
  "language_info": {
   "name": "python"
  }
 },
 "cells": [
  {
   "cell_type": "code",
   "source": [
    "import argparse\n",
    "import gym\n",
    "import cv2\n",
    "import numpy as np\n",
    "import pygame\n",
    "from concurrent.futures import ThreadPoolExecutor\n",
    "\n",
    "import ece471_duckhunt as dh\n",
    "from ece471_duckhunt import envs\n",
    "from ece471_duckhunt.envs import duckhunt_env\n",
    "\n",
    "\n",
    "from solution import GetLocation\n",
    "\n",
    "# Required version for the following packages\n",
    "print(f\"Duck Hunt version: {dh.__version__} (=1.0.0)\")\n",
    "print(f\"OpenCV version: {cv2.__version__} (=4.X)\")\n",
    "print(f\"NumPy version: {np.__version__} (=1.19+)\")\n",
    "print(f\"OpenGym version: {gym.__version__} (=0.18.0)\")\n"
   ],
   "metadata": {
    "colab": {
     "base_uri": "https://localhost:8080/"
    },
    "id": "MnDRa3WYyBW5",
    "outputId": "81b0c4b7-bb5c-4abd-a4f4-e03d481a889a"
   },
   "execution_count": 1,
   "outputs": [
    {
     "name": "stderr",
     "output_type": "stream",
     "text": [
      "Could not find \"/Users/nolankurylo/PycharmProjects/duck-hunt/ece471_duckhunt/pytransform/platforms/darwin/x86_64/_pytransform.dylib\"\n",
      "ERROR:root:Internal Python error in the inspect module.\n",
      "Below is the traceback from this internal error.\n",
      "\n"
     ]
    },
    {
     "name": "stdout",
     "output_type": "stream",
     "text": [
      "pygame 2.1.2 (SDL 2.0.18, Python 3.7.12)\n",
      "Hello from the pygame community. https://www.pygame.org/contribute.html\n",
      "Traceback (most recent call last):\n",
      "  File \"/Users/nolankurylo/PycharmProjects/duck-hunt/ece471_duckhunt/pytransform/__init__.py\", line 364, in pyarmor_runtime\n",
      "    pyarmor_init(path, is_runtime=1, suffix=suffix, advanced=advanced)\n",
      "  File \"/Users/nolankurylo/PycharmProjects/duck-hunt/ece471_duckhunt/pytransform/__init__.py\", line 355, in pyarmor_init\n",
      "    _pytransform = _load_library(path, is_runtime, platid, suffix, advanced)\n",
      "  File \"/Users/nolankurylo/PycharmProjects/duck-hunt/ece471_duckhunt/pytransform/__init__.py\", line 317, in _load_library\n",
      "    raise PytransformError('Could not find \"%s\"' % filename)\n",
      "ece471_duckhunt.pytransform.PytransformError: Could not find \"/Users/nolankurylo/PycharmProjects/duck-hunt/ece471_duckhunt/pytransform/platforms/darwin/x86_64/_pytransform.dylib\"\n",
      "\n",
      "During handling of the above exception, another exception occurred:\n",
      "\n",
      "Traceback (most recent call last):\n",
      "  File \"/Users/nolankurylo/PycharmProjects/duck-hunt/venv/lib/python3.7/site-packages/IPython/core/interactiveshell.py\", line 3457, in run_code\n",
      "    exec(code_obj, self.user_global_ns, self.user_ns)\n",
      "  File \"/var/folders/7c/wtmbbyns6sn8tmf5vw1qfls80000gn/T/ipykernel_55424/1050337422.py\", line 8, in <module>\n",
      "    import ece471_duckhunt as dh\n",
      "  File \"/Users/nolankurylo/PycharmProjects/duck-hunt/ece471_duckhunt/__init__.py\", line 2, in <module>\n",
      "    pyarmor_runtime()\n",
      "  File \"/Users/nolankurylo/PycharmProjects/duck-hunt/ece471_duckhunt/pytransform/__init__.py\", line 370, in pyarmor_runtime\n",
      "    sys.exit(1)\n",
      "SystemExit: 1\n",
      "\n",
      "During handling of the above exception, another exception occurred:\n",
      "\n",
      "Traceback (most recent call last):\n",
      "  File \"/Users/nolankurylo/PycharmProjects/duck-hunt/venv/lib/python3.7/site-packages/IPython/core/ultratb.py\", line 1101, in get_records\n",
      "    return _fixed_getinnerframes(etb, number_of_lines_of_context, tb_offset)\n",
      "  File \"/Users/nolankurylo/PycharmProjects/duck-hunt/venv/lib/python3.7/site-packages/IPython/core/ultratb.py\", line 248, in wrapped\n",
      "    return f(*args, **kwargs)\n",
      "  File \"/Users/nolankurylo/PycharmProjects/duck-hunt/venv/lib/python3.7/site-packages/IPython/core/ultratb.py\", line 281, in _fixed_getinnerframes\n",
      "    records = fix_frame_records_filenames(inspect.getinnerframes(etb, context))\n",
      "  File \"/usr/local/Cellar/python@3.7/3.7.12_1/Frameworks/Python.framework/Versions/3.7/lib/python3.7/inspect.py\", line 1502, in getinnerframes\n",
      "    frameinfo = (tb.tb_frame,) + getframeinfo(tb, context)\n",
      "AttributeError: 'tuple' object has no attribute 'tb_frame'\n"
     ]
    },
    {
     "ename": "TypeError",
     "evalue": "object of type 'NoneType' has no len()",
     "output_type": "error",
     "traceback": [
      "\u001B[0;31m---------------------------------------------------------------------------\u001B[0m",
      "\u001B[0;31mPytransformError\u001B[0m                          Traceback (most recent call last)",
      "\u001B[0;32m~/PycharmProjects/duck-hunt/ece471_duckhunt/pytransform/__init__.py\u001B[0m in \u001B[0;36mpyarmor_runtime\u001B[0;34m(path, suffix, advanced)\u001B[0m\n\u001B[1;32m    363\u001B[0m     \u001B[0;32mtry\u001B[0m\u001B[0;34m:\u001B[0m\u001B[0;34m\u001B[0m\u001B[0;34m\u001B[0m\u001B[0m\n\u001B[0;32m--> 364\u001B[0;31m         \u001B[0mpyarmor_init\u001B[0m\u001B[0;34m(\u001B[0m\u001B[0mpath\u001B[0m\u001B[0;34m,\u001B[0m \u001B[0mis_runtime\u001B[0m\u001B[0;34m=\u001B[0m\u001B[0;36m1\u001B[0m\u001B[0;34m,\u001B[0m \u001B[0msuffix\u001B[0m\u001B[0;34m=\u001B[0m\u001B[0msuffix\u001B[0m\u001B[0;34m,\u001B[0m \u001B[0madvanced\u001B[0m\u001B[0;34m=\u001B[0m\u001B[0madvanced\u001B[0m\u001B[0;34m)\u001B[0m\u001B[0;34m\u001B[0m\u001B[0;34m\u001B[0m\u001B[0m\n\u001B[0m\u001B[1;32m    365\u001B[0m         \u001B[0minit_runtime\u001B[0m\u001B[0;34m(\u001B[0m\u001B[0;34m)\u001B[0m\u001B[0;34m\u001B[0m\u001B[0;34m\u001B[0m\u001B[0m\n",
      "\u001B[0;32m~/PycharmProjects/duck-hunt/ece471_duckhunt/pytransform/__init__.py\u001B[0m in \u001B[0;36mpyarmor_init\u001B[0;34m(path, is_runtime, platid, suffix, advanced)\u001B[0m\n\u001B[1;32m    354\u001B[0m     \u001B[0;32mglobal\u001B[0m \u001B[0m_pytransform\u001B[0m\u001B[0;34m\u001B[0m\u001B[0;34m\u001B[0m\u001B[0m\n\u001B[0;32m--> 355\u001B[0;31m     \u001B[0m_pytransform\u001B[0m \u001B[0;34m=\u001B[0m \u001B[0m_load_library\u001B[0m\u001B[0;34m(\u001B[0m\u001B[0mpath\u001B[0m\u001B[0;34m,\u001B[0m \u001B[0mis_runtime\u001B[0m\u001B[0;34m,\u001B[0m \u001B[0mplatid\u001B[0m\u001B[0;34m,\u001B[0m \u001B[0msuffix\u001B[0m\u001B[0;34m,\u001B[0m \u001B[0madvanced\u001B[0m\u001B[0;34m)\u001B[0m\u001B[0;34m\u001B[0m\u001B[0;34m\u001B[0m\u001B[0m\n\u001B[0m\u001B[1;32m    356\u001B[0m     \u001B[0;32mreturn\u001B[0m \u001B[0minit_pytransform\u001B[0m\u001B[0;34m(\u001B[0m\u001B[0;34m)\u001B[0m\u001B[0;34m\u001B[0m\u001B[0;34m\u001B[0m\u001B[0m\n",
      "\u001B[0;32m~/PycharmProjects/duck-hunt/ece471_duckhunt/pytransform/__init__.py\u001B[0m in \u001B[0;36m_load_library\u001B[0;34m(path, is_runtime, platid, suffix, advanced)\u001B[0m\n\u001B[1;32m    316\u001B[0m     \u001B[0;32mif\u001B[0m \u001B[0;32mnot\u001B[0m \u001B[0mos\u001B[0m\u001B[0;34m.\u001B[0m\u001B[0mpath\u001B[0m\u001B[0;34m.\u001B[0m\u001B[0mexists\u001B[0m\u001B[0;34m(\u001B[0m\u001B[0mfilename\u001B[0m\u001B[0;34m)\u001B[0m\u001B[0;34m:\u001B[0m\u001B[0;34m\u001B[0m\u001B[0;34m\u001B[0m\u001B[0m\n\u001B[0;32m--> 317\u001B[0;31m         \u001B[0;32mraise\u001B[0m \u001B[0mPytransformError\u001B[0m\u001B[0;34m(\u001B[0m\u001B[0;34m'Could not find \"%s\"'\u001B[0m \u001B[0;34m%\u001B[0m \u001B[0mfilename\u001B[0m\u001B[0;34m)\u001B[0m\u001B[0;34m\u001B[0m\u001B[0;34m\u001B[0m\u001B[0m\n\u001B[0m\u001B[1;32m    318\u001B[0m \u001B[0;34m\u001B[0m\u001B[0m\n",
      "\u001B[0;31mPytransformError\u001B[0m: Could not find \"/Users/nolankurylo/PycharmProjects/duck-hunt/ece471_duckhunt/pytransform/platforms/darwin/x86_64/_pytransform.dylib\"",
      "\nDuring handling of the above exception, another exception occurred:\n",
      "\u001B[0;31mSystemExit\u001B[0m                                Traceback (most recent call last)",
      "    \u001B[0;31m[... skipping hidden 1 frame]\u001B[0m\n",
      "\u001B[0;32m/var/folders/7c/wtmbbyns6sn8tmf5vw1qfls80000gn/T/ipykernel_55424/1050337422.py\u001B[0m in \u001B[0;36m<module>\u001B[0;34m\u001B[0m\n\u001B[1;32m      7\u001B[0m \u001B[0;34m\u001B[0m\u001B[0m\n\u001B[0;32m----> 8\u001B[0;31m \u001B[0;32mimport\u001B[0m \u001B[0mece471_duckhunt\u001B[0m \u001B[0;32mas\u001B[0m \u001B[0mdh\u001B[0m\u001B[0;34m\u001B[0m\u001B[0;34m\u001B[0m\u001B[0m\n\u001B[0m\u001B[1;32m      9\u001B[0m \u001B[0;32mfrom\u001B[0m \u001B[0mece471_duckhunt\u001B[0m \u001B[0;32mimport\u001B[0m \u001B[0menvs\u001B[0m\u001B[0;34m\u001B[0m\u001B[0;34m\u001B[0m\u001B[0m\n",
      "\u001B[0;32m~/PycharmProjects/duck-hunt/ece471_duckhunt/__init__.py\u001B[0m in \u001B[0;36m<module>\u001B[0;34m\u001B[0m\n\u001B[1;32m      1\u001B[0m \u001B[0;32mfrom\u001B[0m \u001B[0;34m.\u001B[0m\u001B[0mpytransform\u001B[0m \u001B[0;32mimport\u001B[0m \u001B[0mpyarmor_runtime\u001B[0m\u001B[0;34m\u001B[0m\u001B[0;34m\u001B[0m\u001B[0m\n\u001B[0;32m----> 2\u001B[0;31m \u001B[0mpyarmor_runtime\u001B[0m\u001B[0;34m(\u001B[0m\u001B[0;34m)\u001B[0m\u001B[0;34m\u001B[0m\u001B[0;34m\u001B[0m\u001B[0m\n\u001B[0m\u001B[1;32m      3\u001B[0m \u001B[0m__pyarmor__\u001B[0m\u001B[0;34m(\u001B[0m\u001B[0m__name__\u001B[0m\u001B[0;34m,\u001B[0m \u001B[0m__file__\u001B[0m\u001B[0;34m,\u001B[0m \u001B[0;34mb'\\x50\\x59\\x41\\x52\\x4d\\x4f\\x52\\x00\\x00\\x03\\x07\\x00\\x42\\x0d\\x0d\\x0a\\x09\\x30\\xe0\\x02\\x00\\x00\\x00\\x00\\x01\\x00\\x00\\x00\\x40\\x00\\x00\\x00\\x51\\x02\\x00\\x00\\x00\\x00\\x00\\x18\\x32\\x1b\\xc8\\xda\\xb8\\x29\\xcf\\x70\\x31\\x88\\x81\\xbf\\xf7\\x5c\\xb8\\x0f\\x00\\x00\\x00\\x00\\x00\\x00\\x00\\x00\\xad\\x11\\x16\\x7e\\xa1\\x6a\\xd8\\x5d\\x3b\\x1d\\xf8\\x88\\x28\\xdb\\xb0\\x73\\x6e\\xe0\\x9a\\x4e\\xef\\x2d\\x33\\xd0\\xdc\\x76\\x90\\x2b\\x12\\xaf\\x85\\x41\\xa4\\x48\\xcb\\x20\\x3e\\xfc\\xf8\\x86\\x49\\xac\\x54\\xbf\\x1c\\xdf\\x34\\xe4\\xb5\\x78\\xa0\\xff\\x9e\\x77\\x91\\xe2\\xce\\xb3\\x6d\\x64\\x6e\\x7f\\xe3\\x9e\\x2d\\x89\\x0b\\x72\\xe7\\x4f\\xfe\\x89\\x8b\\x6a\\x64\\x1b\\xfd\\x67\\xc6\\xf4\\xd0\\x4b\\x44\\xab\\x71\\x9b\\xc5\\x17\\xd8\\x85\\xc6\\x41\\x7e\\x17\\x88\\x0c\\x08\\x21\\x5f\\x3e\\x6c\\x2a\\xb7\\xa2\\xc1\\xa9\\x9f\\xfc\\x2c\\x66\\xb8\\x23\\xd8\\xa5\\x9c\\x98\\x81\\xee\\xac\\x8c\\xfa\\x29\\x8c\\x14\\x7d\\x80\\x51\\xc3\\x90\\xf4\\x0a\\x7d\\xb1\\x5b\\xde\\xbd\\xeb\\x28\\x87\\xcc\\xdb\\x93\\xf1\\xb1\\x6b\\xa7\\x15\\xcb\\xd0\\x0d\\x90\\xe0\\x02\\x40\\x76\\xb5\\xdb\\x9d\\x42\\xca\\x26\\x2c\\x38\\xd0\\x4e\\x93\\xbe\\xde\\xec\\x0d\\x84\\x71\\xfd\\xf3\\x24\\x9e\\xac\\xef\\x71\\x2b\\x02\\x4e\\x0c\\xbe\\x85\\x2d\\x1b\\xad\\xf4\\xba\\x27\\xdd\\x16\\xf9\\x81\\xa9\\x0c\\xb0\\x82\\x02\\xb5\\x7e\\x35\\x48\\x94\\x95\\x61\\x43\\x7f\\xae\\x3a\\xe6\\x51\\xbd\\x6f\\x41\\xe4\\x60\\x3e\\x20\\xfe\\xe9\\x98\\x3f\\xe6\\x3b\\x94\\x97\\x12\\x39\\x8e\\xbe\\x73\\xc5\\x66\\xb7\\xf0\\xc5\\x2e\\x38\\x13\\xcb\\xdd\\x6b\\xf7\\x19\\xc4\\x9e\\x9d\\x8c\\x19\\x4f\\x61\\x54\\x6e\\x9a\\x29\\x08\\x7b\\xc3\\x4c\\xc6\\xd4\\xc2\\x3e\\x26\\xce\\x1f\\x2f\\x40\\x2e\\x1c\\x8d\\x23\\xe9\\x97\\x82\\xba\\x55\\x39\\x95\\xa0\\x3a\\xad\\x73\\xbb\\x27\\xf8\\x69\\xba\\xd7\\x84\\x78\\x38\\x7d\\x34\\x78\\x23\\x29\\x2e\\xa8\\xc5\\x81\\x0b\\xdf\\xba\\x4d\\xd7\\xae\\x84\\x8a\\x51\\xa5\\xb9\\xc2\\x92\\xae\\x6a\\xe2\\x05\\x31\\xb5\\x6b\\x7a\\x3c\\xaa\\xba\\x17\\x80\\x9b\\x87\\x60\\xae\\x87\\x05\\x4c\\x28\\xf9\\xe4\\xd0\\xe4\\xbc\\x59\\x5b\\x4e\\x11\\x36\\xbf\\x3d\\x30\\x49\\x24\\x99\\xe5\\x5c\\x43\\xaa\\x47\\xa1\\x5d\\x3b\\x60\\x5b\\x86\\x2c\\x60\\x52\\xb2\\xaa\\x58\\x47\\x8c\\xe1\\x58\\x88\\xe3\\x91\\x7a\\xe6\\xe7\\x90\\xd0\\xcb\\x9c\\x6f\\xae\\x23\\x71\\xbd\\x0f\\xf2\\x15\\xf5\\x42\\xa8\\x4b\\xc0\\xb1\\xc2\\xcf\\x13\\xdd\\x07\\x80\\x47\\xc2\\x7c\\x96\\xd6\\xff\\xce\\xb6\\x0c\\x89\\x49\\xb3\\x0e\\xaa\\xd5\\xa6\\x5c\\xca\\x55\\xfd\\x83\\xa0\\xac\\x95\\xa6\\x7d\\x66\\x93\\x2a\\xd4\\x1f\\x0e\\xa3\\xc9\\xe7\\x7b\\xd5\\xae\\x5c\\xaf\\x3d\\x7e\\x1c\\x47\\xc7\\x27\\xb5\\xe7\\x4b\\x5a\\xc9\\x04\\x25\\xaa\\x9f\\x07\\xa0\\x2a\\x0b\\x57\\x45\\x4a\\x3e\\xff\\x07\\xbe\\x2a\\xb5\\x19\\x47\\xb7\\x97\\xaf\\x6b\\x2e\\x99\\xda\\xaf\\x08\\x99\\xd4\\x60\\x15\\x4f\\x6b\\x4d\\xb6\\x11\\x3e\\x5d\\x20\\x8d\\x59\\x76\\x09\\x86\\x0f\\x3a\\x23\\x9b\\xa5\\x1b\\x2a\\xe6\\x1a\\xe0\\xa4\\xf0\\xc2\\xfe\\xd8\\x6d\\x7b\\x38\\x7a\\x60\\x1e\\x79\\xbf\\x10\\x17\\x61\\x14\\x05\\xd6\\x6a\\xd5\\x88\\xf5\\xb8\\x07\\xd3\\x94\\x78\\x94\\x90\\x84\\xe7\\xed\\x94\\xd5\\x66\\x6c\\xf0\\xee\\x8a\\xe0\\x52\\xf5\\xed\\x15\\x09\\x9d\\xaf\\x6e\\x55\\x9a\\xa7\\x8b\\x7d\\x31\\x2d\\x81\\x87\\xf5\\x66\\x4c\\xad\\x23\\xd9\\x1e\\xf0\\xb7\\x30\\xef\\x07\\x99\\xbe\\xf7\\x4d\\xb5\\x38\\x45\\xdf\\xb6\\x4a\\xf9\\xb5\\x19'\u001B[0m\u001B[0;34m,\u001B[0m \u001B[0;36m2\u001B[0m\u001B[0;34m)\u001B[0m\u001B[0;34m\u001B[0m\u001B[0;34m\u001B[0m\u001B[0m\n",
      "\u001B[0;32m~/PycharmProjects/duck-hunt/ece471_duckhunt/pytransform/__init__.py\u001B[0m in \u001B[0;36mpyarmor_runtime\u001B[0;34m(path, suffix, advanced)\u001B[0m\n\u001B[1;32m    369\u001B[0m         \u001B[0msys\u001B[0m\u001B[0;34m.\u001B[0m\u001B[0mstderr\u001B[0m\u001B[0;34m.\u001B[0m\u001B[0mwrite\u001B[0m\u001B[0;34m(\u001B[0m\u001B[0;34m\"%s\\n\"\u001B[0m \u001B[0;34m%\u001B[0m \u001B[0mstr\u001B[0m\u001B[0;34m(\u001B[0m\u001B[0me\u001B[0m\u001B[0;34m)\u001B[0m\u001B[0;34m)\u001B[0m\u001B[0;34m\u001B[0m\u001B[0;34m\u001B[0m\u001B[0m\n\u001B[0;32m--> 370\u001B[0;31m         \u001B[0msys\u001B[0m\u001B[0;34m.\u001B[0m\u001B[0mexit\u001B[0m\u001B[0;34m(\u001B[0m\u001B[0;36m1\u001B[0m\u001B[0;34m)\u001B[0m\u001B[0;34m\u001B[0m\u001B[0;34m\u001B[0m\u001B[0m\n\u001B[0m\u001B[1;32m    371\u001B[0m \u001B[0;34m\u001B[0m\u001B[0m\n",
      "\u001B[0;31mSystemExit\u001B[0m: 1",
      "\nDuring handling of the above exception, another exception occurred:\n",
      "\u001B[0;31mTypeError\u001B[0m                                 Traceback (most recent call last)",
      "    \u001B[0;31m[... skipping hidden 1 frame]\u001B[0m\n",
      "\u001B[0;32m~/PycharmProjects/duck-hunt/venv/lib/python3.7/site-packages/IPython/core/interactiveshell.py\u001B[0m in \u001B[0;36mshowtraceback\u001B[0;34m(self, exc_tuple, filename, tb_offset, exception_only, running_compiled_code)\u001B[0m\n\u001B[1;32m   2069\u001B[0m                            'the full traceback.\\n']\n\u001B[1;32m   2070\u001B[0m                     stb.extend(self.InteractiveTB.get_exception_only(etype,\n\u001B[0;32m-> 2071\u001B[0;31m                                                                      value))\n\u001B[0m\u001B[1;32m   2072\u001B[0m                 \u001B[0;32melse\u001B[0m\u001B[0;34m:\u001B[0m\u001B[0;34m\u001B[0m\u001B[0;34m\u001B[0m\u001B[0m\n\u001B[1;32m   2073\u001B[0m                     \u001B[0;32mtry\u001B[0m\u001B[0;34m:\u001B[0m\u001B[0;34m\u001B[0m\u001B[0;34m\u001B[0m\u001B[0m\n",
      "\u001B[0;32m~/PycharmProjects/duck-hunt/venv/lib/python3.7/site-packages/IPython/core/ultratb.py\u001B[0m in \u001B[0;36mget_exception_only\u001B[0;34m(self, etype, value)\u001B[0m\n\u001B[1;32m    752\u001B[0m         \u001B[0mvalue\u001B[0m \u001B[0;34m:\u001B[0m \u001B[0mexception\u001B[0m \u001B[0mvalue\u001B[0m\u001B[0;34m\u001B[0m\u001B[0;34m\u001B[0m\u001B[0m\n\u001B[1;32m    753\u001B[0m         \"\"\"\n\u001B[0;32m--> 754\u001B[0;31m         \u001B[0;32mreturn\u001B[0m \u001B[0mListTB\u001B[0m\u001B[0;34m.\u001B[0m\u001B[0mstructured_traceback\u001B[0m\u001B[0;34m(\u001B[0m\u001B[0mself\u001B[0m\u001B[0;34m,\u001B[0m \u001B[0metype\u001B[0m\u001B[0;34m,\u001B[0m \u001B[0mvalue\u001B[0m\u001B[0;34m)\u001B[0m\u001B[0;34m\u001B[0m\u001B[0;34m\u001B[0m\u001B[0m\n\u001B[0m\u001B[1;32m    755\u001B[0m \u001B[0;34m\u001B[0m\u001B[0m\n\u001B[1;32m    756\u001B[0m     \u001B[0;32mdef\u001B[0m \u001B[0mshow_exception_only\u001B[0m\u001B[0;34m(\u001B[0m\u001B[0mself\u001B[0m\u001B[0;34m,\u001B[0m \u001B[0metype\u001B[0m\u001B[0;34m,\u001B[0m \u001B[0mevalue\u001B[0m\u001B[0;34m)\u001B[0m\u001B[0;34m:\u001B[0m\u001B[0;34m\u001B[0m\u001B[0;34m\u001B[0m\u001B[0m\n",
      "\u001B[0;32m~/PycharmProjects/duck-hunt/venv/lib/python3.7/site-packages/IPython/core/ultratb.py\u001B[0m in \u001B[0;36mstructured_traceback\u001B[0;34m(self, etype, evalue, etb, tb_offset, context)\u001B[0m\n\u001B[1;32m    631\u001B[0m                     chained_exceptions_tb_offset, context)\n\u001B[1;32m    632\u001B[0m                 \u001B[0;34m+\u001B[0m \u001B[0mchained_exception_message\u001B[0m\u001B[0;34m\u001B[0m\u001B[0;34m\u001B[0m\u001B[0m\n\u001B[0;32m--> 633\u001B[0;31m                 + out_list)\n\u001B[0m\u001B[1;32m    634\u001B[0m \u001B[0;34m\u001B[0m\u001B[0m\n\u001B[1;32m    635\u001B[0m         \u001B[0;32mreturn\u001B[0m \u001B[0mout_list\u001B[0m\u001B[0;34m\u001B[0m\u001B[0;34m\u001B[0m\u001B[0m\n",
      "\u001B[0;32m~/PycharmProjects/duck-hunt/venv/lib/python3.7/site-packages/IPython/core/ultratb.py\u001B[0m in \u001B[0;36mstructured_traceback\u001B[0;34m(self, etype, value, tb, tb_offset, number_of_lines_of_context)\u001B[0m\n\u001B[1;32m   1366\u001B[0m             \u001B[0mself\u001B[0m\u001B[0;34m.\u001B[0m\u001B[0mtb\u001B[0m \u001B[0;34m=\u001B[0m \u001B[0mtb\u001B[0m\u001B[0;34m\u001B[0m\u001B[0;34m\u001B[0m\u001B[0m\n\u001B[1;32m   1367\u001B[0m         return FormattedTB.structured_traceback(\n\u001B[0;32m-> 1368\u001B[0;31m             self, etype, value, tb, tb_offset, number_of_lines_of_context)\n\u001B[0m\u001B[1;32m   1369\u001B[0m \u001B[0;34m\u001B[0m\u001B[0m\n\u001B[1;32m   1370\u001B[0m \u001B[0;34m\u001B[0m\u001B[0m\n",
      "\u001B[0;32m~/PycharmProjects/duck-hunt/venv/lib/python3.7/site-packages/IPython/core/ultratb.py\u001B[0m in \u001B[0;36mstructured_traceback\u001B[0;34m(self, etype, value, tb, tb_offset, number_of_lines_of_context)\u001B[0m\n\u001B[1;32m   1266\u001B[0m             \u001B[0;31m# Verbose modes need a full traceback\u001B[0m\u001B[0;34m\u001B[0m\u001B[0;34m\u001B[0m\u001B[0;34m\u001B[0m\u001B[0m\n\u001B[1;32m   1267\u001B[0m             return VerboseTB.structured_traceback(\n\u001B[0;32m-> 1268\u001B[0;31m                 \u001B[0mself\u001B[0m\u001B[0;34m,\u001B[0m \u001B[0metype\u001B[0m\u001B[0;34m,\u001B[0m \u001B[0mvalue\u001B[0m\u001B[0;34m,\u001B[0m \u001B[0mtb\u001B[0m\u001B[0;34m,\u001B[0m \u001B[0mtb_offset\u001B[0m\u001B[0;34m,\u001B[0m \u001B[0mnumber_of_lines_of_context\u001B[0m\u001B[0;34m\u001B[0m\u001B[0;34m\u001B[0m\u001B[0m\n\u001B[0m\u001B[1;32m   1269\u001B[0m             )\n\u001B[1;32m   1270\u001B[0m         \u001B[0;32melif\u001B[0m \u001B[0mmode\u001B[0m \u001B[0;34m==\u001B[0m \u001B[0;34m'Minimal'\u001B[0m\u001B[0;34m:\u001B[0m\u001B[0;34m\u001B[0m\u001B[0;34m\u001B[0m\u001B[0m\n",
      "\u001B[0;32m~/PycharmProjects/duck-hunt/venv/lib/python3.7/site-packages/IPython/core/ultratb.py\u001B[0m in \u001B[0;36mstructured_traceback\u001B[0;34m(self, etype, evalue, etb, tb_offset, number_of_lines_of_context)\u001B[0m\n\u001B[1;32m   1123\u001B[0m \u001B[0;34m\u001B[0m\u001B[0m\n\u001B[1;32m   1124\u001B[0m         formatted_exception = self.format_exception_as_a_whole(etype, evalue, etb, number_of_lines_of_context,\n\u001B[0;32m-> 1125\u001B[0;31m                                                                tb_offset)\n\u001B[0m\u001B[1;32m   1126\u001B[0m \u001B[0;34m\u001B[0m\u001B[0m\n\u001B[1;32m   1127\u001B[0m         \u001B[0mcolors\u001B[0m \u001B[0;34m=\u001B[0m \u001B[0mself\u001B[0m\u001B[0;34m.\u001B[0m\u001B[0mColors\u001B[0m  \u001B[0;31m# just a shorthand + quicker name lookup\u001B[0m\u001B[0;34m\u001B[0m\u001B[0;34m\u001B[0m\u001B[0m\n",
      "\u001B[0;32m~/PycharmProjects/duck-hunt/venv/lib/python3.7/site-packages/IPython/core/ultratb.py\u001B[0m in \u001B[0;36mformat_exception_as_a_whole\u001B[0;34m(self, etype, evalue, etb, number_of_lines_of_context, tb_offset)\u001B[0m\n\u001B[1;32m   1080\u001B[0m \u001B[0;34m\u001B[0m\u001B[0m\n\u001B[1;32m   1081\u001B[0m \u001B[0;34m\u001B[0m\u001B[0m\n\u001B[0;32m-> 1082\u001B[0;31m         \u001B[0mlast_unique\u001B[0m\u001B[0;34m,\u001B[0m \u001B[0mrecursion_repeat\u001B[0m \u001B[0;34m=\u001B[0m \u001B[0mfind_recursion\u001B[0m\u001B[0;34m(\u001B[0m\u001B[0morig_etype\u001B[0m\u001B[0;34m,\u001B[0m \u001B[0mevalue\u001B[0m\u001B[0;34m,\u001B[0m \u001B[0mrecords\u001B[0m\u001B[0;34m)\u001B[0m\u001B[0;34m\u001B[0m\u001B[0;34m\u001B[0m\u001B[0m\n\u001B[0m\u001B[1;32m   1083\u001B[0m \u001B[0;34m\u001B[0m\u001B[0m\n\u001B[1;32m   1084\u001B[0m         \u001B[0mframes\u001B[0m \u001B[0;34m=\u001B[0m \u001B[0mself\u001B[0m\u001B[0;34m.\u001B[0m\u001B[0mformat_records\u001B[0m\u001B[0;34m(\u001B[0m\u001B[0mrecords\u001B[0m\u001B[0;34m,\u001B[0m \u001B[0mlast_unique\u001B[0m\u001B[0;34m,\u001B[0m \u001B[0mrecursion_repeat\u001B[0m\u001B[0;34m)\u001B[0m\u001B[0;34m\u001B[0m\u001B[0;34m\u001B[0m\u001B[0m\n",
      "\u001B[0;32m~/PycharmProjects/duck-hunt/venv/lib/python3.7/site-packages/IPython/core/ultratb.py\u001B[0m in \u001B[0;36mfind_recursion\u001B[0;34m(etype, value, records)\u001B[0m\n\u001B[1;32m    380\u001B[0m     \u001B[0;31m# first frame (from in to out) that looks different.\u001B[0m\u001B[0;34m\u001B[0m\u001B[0;34m\u001B[0m\u001B[0;34m\u001B[0m\u001B[0m\n\u001B[1;32m    381\u001B[0m     \u001B[0;32mif\u001B[0m \u001B[0;32mnot\u001B[0m \u001B[0mis_recursion_error\u001B[0m\u001B[0;34m(\u001B[0m\u001B[0metype\u001B[0m\u001B[0;34m,\u001B[0m \u001B[0mvalue\u001B[0m\u001B[0;34m,\u001B[0m \u001B[0mrecords\u001B[0m\u001B[0;34m)\u001B[0m\u001B[0;34m:\u001B[0m\u001B[0;34m\u001B[0m\u001B[0;34m\u001B[0m\u001B[0m\n\u001B[0;32m--> 382\u001B[0;31m         \u001B[0;32mreturn\u001B[0m \u001B[0mlen\u001B[0m\u001B[0;34m(\u001B[0m\u001B[0mrecords\u001B[0m\u001B[0;34m)\u001B[0m\u001B[0;34m,\u001B[0m \u001B[0;36m0\u001B[0m\u001B[0;34m\u001B[0m\u001B[0;34m\u001B[0m\u001B[0m\n\u001B[0m\u001B[1;32m    383\u001B[0m \u001B[0;34m\u001B[0m\u001B[0m\n\u001B[1;32m    384\u001B[0m     \u001B[0;31m# Select filename, lineno, func_name to track frames with\u001B[0m\u001B[0;34m\u001B[0m\u001B[0;34m\u001B[0m\u001B[0;34m\u001B[0m\u001B[0m\n",
      "\u001B[0;31mTypeError\u001B[0m: object of type 'NoneType' has no len()"
     ]
    }
   ]
  },
  {
   "cell_type": "code",
   "source": [
    "#Construct the Duck Hunt Environment\n",
    "env = gym.make(\"DuckHunt-v0\",\n",
    "                    move_amount=1,\n",
    "                    quiet=False,\n",
    "                    level=1,\n",
    "                    shape=(1024,798),\n",
    "                    duration=60,\n",
    "                    seed=None,\n",
    "                    randomize=False,\n",
    "                    )\n"
   ],
   "metadata": {
    "colab": {
     "base_uri": "https://localhost:8080/"
    },
    "id": "o-WU0GPyyDUv",
    "outputId": "ca78e623-15a4-4956-f509-81f90f394230"
   },
   "execution_count": null,
   "outputs": []
  },
  {
   "cell_type": "code",
   "source": [
    "#Run main animation loop\n",
    "#NOTE: I am not creating a threaded operation, see duck_hunt_main.py for demo code\n",
    "\"\"\" \n",
    "Use the `current_frame` from either env.step of env.render\n",
    "to determine where to move the scope.\n",
    "\n",
    "current_frame : np.ndarray (width, height, 3), np.uint8, RGB\n",
    "\"\"\"\n",
    "current_frame = env.render()\n",
    "while True:\n",
    "        \n",
    "        \"\"\"\n",
    "        NOTE: This is a hack to display the scenes in Google Colab.\n",
    "              I recommend using quiet=True or not displaying results\n",
    "              and instead use Google Colab for training and your own computer\n",
    "              for visualizing results\n",
    "        \"\"\"\n",
    "        ##  convert from (width, height, channel) to (height, width, channel)\n",
    "        #Display image, clear cell every 0.5 seconds\n",
    "        output.clear()\n",
    "        cv2_imshow(cv2.cvtColor(current_frame.transpose((1,0,2)), cv2.COLOR_RGB2BGR))\n",
    "        \n",
    "        \n",
    "        #Using your algorithm, get a list of dictionaries with:\n",
    "        # 'coordinate' : tuple or list (x,y) for absolute coordinates\n",
    "        #                integer [0,8] for relative coordinates\n",
    "        # 'move_type'  : type of move to perform\n",
    "        results = GetLocation('absolute', env)  \n",
    "\n",
    "        \"\"\"\n",
    "        Pass the current location (and location type) you want the \"gun\" place.\n",
    "        The action \"shoot\" is automatically done for you.\n",
    "        Returns: \n",
    "                current_frame: np.dnarray (W,H,3), np.uint8, RGB: current frame after `coordinate` is applied.\n",
    "                level_done: True if the current level is finished, False otw \n",
    "                game_done: True if all the levels are finished, False otw \n",
    "                info: dict containing current game information (see API guide)\n",
    "        \n",
    "        \"\"\"\n",
    "        for res in results:\n",
    "            coordinate  = res['coordinate']\n",
    "            move_type   = res['move_type']\n",
    "            current_frame, level_done, game_done, info = env.step(coordinate, move_type)\n",
    "            print(info)\n",
    "            if level_done or game_done:\n",
    "                break\n"
   ],
   "metadata": {
    "colab": {
     "base_uri": "https://localhost:8080/",
     "height": 1000
    },
    "id": "4yZx_51HzGhO",
    "outputId": "4923eb40-f24f-40f0-bc0f-1cc4a364209e"
   },
   "execution_count": null,
   "outputs": []
  },
  {
   "cell_type": "code",
   "source": [
    ""
   ],
   "metadata": {
    "id": "6lnpO2qDyywu"
   },
   "execution_count": null,
   "outputs": []
  }
 ]
}